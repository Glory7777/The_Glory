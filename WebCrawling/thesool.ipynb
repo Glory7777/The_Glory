{
 "cells": [
  {
   "cell_type": "code",
   "execution_count": null,
   "metadata": {},
   "outputs": [],
   "source": [
    "# 더 술에 있는 이미지 포함하여 정보 크롤링 \n",
    "\n",
    "from bs4 import BeautifulSoup\n",
    "import requests\n",
    "import urllib.request\n",
    "import pandas as pd\n",
    "# 페이지 로드\n",
    "\n",
    "#23.08.05 기준 93페이지까지 있음\n",
    "df = pd.DataFrame(columns=['name','company','mtrl','std', 'dsc', 'img'])\n",
    "page = int(input())\n",
    "\n",
    "#작업자 : 경환/종현\n",
    "for i in range(1, page+1):\n",
    "    url = f'https://thesool.com/front/find/M000000082/list.do?searchType=2&searchKey=&searchKind=&levelType=&searchString=&productId=&pageIndex={i}&categoryNm=&kind='\n",
    "    response = requests.get(url)\n",
    "    # html 내용 저장\n",
    "    html = response.text\n",
    "    # 파싱\n",
    "    soup = BeautifulSoup(html, 'html.parser')\n",
    "    # 제품명\n",
    "    names = soup.select('.title-area > .name')\n",
    "    companys = soup.select('li:nth-child(1) > div.info')\n",
    "    mtrls = soup.select('li:nth-child(2) > div.info')\n",
    "    strds = soup.select('li:nth-child(3) > div.info')\n",
    "    dscrpts = soup.select('div.info.no-line > span')\n",
    "    imgs = soup.select('span > img')\n",
    "\n",
    "    for img,name,company,mtrl,strd,dscrpt in zip(imgs,names,companys,mtrls,strds,dscrpts):\n",
    "        product_img = img.attrs['src']\n",
    "        product_img = \"https://thesool.com\"+product_img\n",
    "        product_name = name.text\n",
    "        product_company = company.text\n",
    "        product_mtrl = mtrl.text\n",
    "        product_strd = strd.text\n",
    "        product_strd= product_strd.replace(\"\\r\\n\\t\\t\\t\\t\\t\\t\\t\\t\\t\",\"\").replace(\" \",\"\").replace(\"\t\",\"\")\n",
    "        product_dscpt = dscrpt.text\n",
    "        product_dscpt = product_dscpt.strip()\n",
    "        df.loc[len(df)] = [product_name, product_company, product_mtrl, product_strd, product_dscpt, product_img]"
   ]
  }
 ],
 "metadata": {
  "language_info": {
   "name": "python"
  },
  "orig_nbformat": 4
 },
 "nbformat": 4,
 "nbformat_minor": 2
}
