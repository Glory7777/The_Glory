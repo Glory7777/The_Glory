{
 "cells": [
  {
   "cell_type": "code",
   "execution_count": null,
   "metadata": {},
   "outputs": [],
   "source": [
    "!pip install scikit-learn\n",
    "!pip install joblib\n",
    "!pip install catboost"
   ]
  },
  {
   "cell_type": "code",
   "execution_count": null,
   "metadata": {},
   "outputs": [],
   "source": [
    "import pandas as pd\n",
    "import random\n",
    "from datetime import datetime, timedelta\n",
    "\n",
    "# 데이터프레임을 위한 빈 리스트들\n",
    "data = {\n",
    "    'id': [],\n",
    "    'body': [],\n",
    "    'created_at': [],\n",
    "    'name_id': [],\n",
    "    'post_id': [],\n",
    "    'color': [],\n",
    "    'carbon': [],\n",
    "    'flavor': [],\n",
    "    'sour': [],\n",
    "    'sweet': [],\n",
    "    'total': []\n",
    "}\n",
    "\n",
    "# 데이터 생성\n",
    "num_rows = 100 * 929  # 100개의 row를 929번 생성\n",
    "for post_id in range(929):\n",
    "    carbon_tendency = random.randint(1, 5)\n",
    "    color_tendency = random.randint(1, 5)\n",
    "    flavor_tendency = random.randint(1, 5)\n",
    "    sour_tendency = random.randint(1, 5)\n",
    "    sweet_tendency = random.randint(1, 5)\n",
    "    total_tendency = carbon_tendency + flavor_tendency + sour_tendency + sweet_tendency + color_tendency\n",
    "\n",
    "\n",
    "    for _ in range(100):\n",
    "        data['id'].append(len(data['id']))\n",
    "        data['body'].append('test')\n",
    "        \n",
    "        # 생성 날짜 생성\n",
    "        base_date = datetime(2023, 8, 9)\n",
    "        random_seconds = random.randint(0, 86400)  # 0~86400 사이의 랜덤 초\n",
    "        created_at = base_date + timedelta(seconds=random_seconds)\n",
    "        data['created_at'].append(created_at)\n",
    "        \n",
    "        data['name_id'].append(random.choice([2, 3, 4]))\n",
    "        data['post_id'].append(post_id)\n",
    "        \n",
    "        # 각 컬럼의 값을 경향성에 맞게 생성\n",
    "        data['carbon'].append(min(max(1, carbon_tendency + random.randint(-1, 1)), 5))\n",
    "        data['color'].append(min(max(1, carbon_tendency + random.randint(-1, 1)), 5))\n",
    "        data['flavor'].append(min(max(1, flavor_tendency + random.randint(-1, 1)), 5))\n",
    "        data['sour'].append(min(max(1, sour_tendency + random.randint(-1, 1)), 5))\n",
    "        data['sweet'].append(min(max(1, sweet_tendency + random.randint(-1, 1)), 5))\n",
    "        data['total'].append(min(max(1, total_tendency + random.randint(-1, 1)), 5))\n",
    "\n",
    "# 데이터프레임 생성\n",
    "df = pd.DataFrame(data)\n",
    "\n",
    "# 결과 출력\n",
    "print(df)"
   ]
  },
  {
   "cell_type": "code",
   "execution_count": null,
   "metadata": {},
   "outputs": [],
   "source": [
    "import numpy as np\n",
    "import pandas as pd\n",
    "from catboost import CatBoostClassifier, Pool\n",
    "from sklearn.model_selection import train_test_split\n",
    "from sklearn.metrics import f1_score, accuracy_score\n",
    "\n",
    "# 데이터 프레임 생성 (이전에 생성한 데이터 활용)\n",
    "# df = ...\n",
    "\n",
    "# 'post_id'를 target으로 사용하기 위해 unique한 값을 생성합니다.\n",
    "post_id_mapping = {post_id: idx for idx, post_id in enumerate(df['post_id'].unique())}\n",
    "df['post_id_encoded'] = df['post_id'].map(post_id_mapping)\n",
    "\n",
    "# 입력 특성과 타겟 데이터 설정\n",
    "features = ['color', 'carbon', 'flavor', 'sour', 'sweet']\n",
    "target = 'post_id_encoded'\n",
    "\n",
    "X = df[features]\n",
    "y = df[target]\n",
    "\n",
    "# 학습 데이터와 테스트 데이터 분리\n",
    "X_train, X_test, y_train, y_test = train_test_split(X, y, test_size=0.2, random_state=42)\n",
    "\n",
    "# CatBoost 데이터 풀 생성\n",
    "train_pool = Pool(X_train, label=y_train)\n",
    "test_pool = Pool(X_test, label=y_test)\n",
    "\n",
    "# CatBoost Classifier 모델 학습\n",
    "model = CatBoostClassifier(iterations=25, depth=10, learning_rate=0.3, loss_function='MultiClass', random_seed=42, task_type='GPU')\n",
    "# model = CatBoostClassifier(loss_function='MultiClass', learning_rate=0.5, random_seed=42)\n",
    "# model.fit(train_pool, eval_set=test_pool, verbose=100)\n",
    "model.fit(train_pool, eval_set=test_pool)\n",
    "\n",
    "# 훈련 데이터 및 테스트 데이터의 예측\n",
    "y_train_pred = model.predict(X_train)\n",
    "y_test_pred = model.predict(X_test)\n",
    "\n",
    "# F1 스코어 계산\n",
    "train_f1 = f1_score(y_train, y_train_pred, average='weighted')\n",
    "test_f1 = f1_score(y_test, y_test_pred, average='weighted')\n",
    "\n",
    "# 정확도 계산\n",
    "train_accuracy = accuracy_score(y_train, y_train_pred)\n",
    "test_accuracy = accuracy_score(y_test, y_test_pred)\n",
    "\n",
    "# 결과 출력\n",
    "print(\"Train F1 Score:\", train_f1)\n",
    "print(\"Test F1 Score:\", test_f1)\n",
    "print(\"Train Accuracy:\", train_accuracy)\n",
    "print(\"Test Accuracy:\", test_accuracy)"
   ]
  },
  {
   "cell_type": "code",
   "execution_count": 37,
   "metadata": {},
   "outputs": [
    {
     "name": "stdout",
     "output_type": "stream",
     "text": [
      "[9]\n"
     ]
    }
   ],
   "source": [
    "from catboost import CatBoostClassifier\n",
    "import joblib\n",
    "import numpy as np\n",
    "model = CatBoostClassifier()\n",
    "model.load_model('model.dump') \n",
    "input_data = np.array([2, 2, 3, 2, 2])\n",
    "prediction = model.predict(input_data)\n",
    "print(prediction)"
   ]
  },
  {
   "cell_type": "code",
   "execution_count": 35,
   "metadata": {},
   "outputs": [],
   "source": [
    "model_filename = 'catboost_model.pkl'\n",
    "loaded_model = joblib.load(model_filename)"
   ]
  },
  {
   "cell_type": "code",
   "execution_count": 36,
   "metadata": {},
   "outputs": [
    {
     "name": "stdout",
     "output_type": "stream",
     "text": [
      "[9]\n"
     ]
    }
   ],
   "source": [
    "input_data = np.array([2, 2, 3, 2, 2])\n",
    "prediction = model.predict(input_data)\n",
    "print(prediction)"
   ]
  }
 ],
 "metadata": {
  "kernelspec": {
   "display_name": "venv1",
   "language": "python",
   "name": "python3"
  },
  "language_info": {
   "codemirror_mode": {
    "name": "ipython",
    "version": 3
   },
   "file_extension": ".py",
   "mimetype": "text/x-python",
   "name": "python",
   "nbconvert_exporter": "python",
   "pygments_lexer": "ipython3",
   "version": "3.8.10"
  },
  "orig_nbformat": 4
 },
 "nbformat": 4,
 "nbformat_minor": 2
}
