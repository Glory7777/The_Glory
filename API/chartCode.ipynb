{
 "cells": [
  {
   "cell_type": "code",
   "execution_count": null,
   "metadata": {},
   "outputs": [],
   "source": [
    "# 필요한 패키지 설치\n",
    "import matplotlib.pyplot as plt\n",
    "import pandas as pd"
   ]
  },
  {
   "cell_type": "code",
   "execution_count": null,
   "metadata": {},
   "outputs": [],
   "source": [
    "# 방사형 차트 - 하나씩 시각화\n",
    "\n",
    "labels = df3.columns[1:]\n",
    "num_labels = len(labels)\n",
    "\n",
    "# 등분점 생성    \n",
    "angles = [x/float(num_labels)*(2*pi) for x in range(num_labels)] \n",
    "angles += angles[:1] # 시작점 생성\n",
    "    \n",
    "my_palette = plt.cm.get_cmap(\"Set2\", len(df3.index))\n",
    " \n",
    "fig = plt.figure(figsize=(15,20))\n",
    "fig.set_facecolor('white')\n",
    " \n",
    "for i, row in df3.iterrows():\n",
    "    color = my_palette(i)\n",
    "    data = df3.iloc[i].drop('Tm').tolist()\n",
    "    data += data[:1]\n",
    "    \n",
    "    ax = plt.subplot(3,2,i+1, polar=True)\n",
    "    # 시작점 설정\n",
    "    ax.set_theta_offset(pi / 2)\n",
    "    # 시계방향 설정\n",
    "    ax.set_theta_direction(-1) \n",
    "    \n",
    "    # 각도 축 눈금 생성\n",
    "    plt.xticks(angles[:-1], labels, fontsize=13)\n",
    "    # 각 축과 눈금 사이 여백생성\n",
    "    ax.tick_params(axis='x', which='major', pad=15)\n",
    "    # 반지름 축 눈금 라벨 각도 0으로 설정\n",
    "    ax.set_rlabel_position(0)\n",
    "    # 반지름 축 눈금 설정\n",
    "    plt.yticks([0,5,10,15,20],['0','5','10','15','20'], fontsize=10) \n",
    "    plt.ylim(0,20)\n",
    "    \n",
    "    # 방사형 차트 출력\n",
    "    ax.plot(angles, data, color=color, linewidth=2, linestyle='solid')\n",
    "    # 도형 안쪽 색상 설정\n",
    "    ax.fill(angles, data, color=color, alpha=0.4) \n",
    "    # 각 차트의 제목 생성\n",
    "    plt.title(row.Tm, size=20, color=color,x=-0.2, y=1.2, ha='left') \n",
    "# 차트 간 간격 설정 \n",
    "plt.tight_layout(pad=3) \n",
    "plt.show()"
   ]
  }
 ],
 "metadata": {
  "language_info": {
   "name": "python"
  },
  "orig_nbformat": 4
 },
 "nbformat": 4,
 "nbformat_minor": 2
}
